{
 "cells": [
  {
   "cell_type": "markdown",
   "id": "30a59821",
   "metadata": {},
   "source": [
    "# Efficient Keyword Spotting for LED Control with TensorFlow Lite for Microcontrollers\n",
    "\n",
    "This notebook is part of a project to develop an efficient audio keyword spotting system capable of recognizing simple voice commands (e.g., \"on\", \"off\", \"one\", \"two\", \"three\") to control an RGB LED. The model is designed and optimized for deployment on resource-constrained microcontrollers (MCUs) using TensorFlow Lite for Microcontrollers (TFLM).\n",
    "\n",
    "Full project available on [GitHub](https://github.com/anacletu/tflm-keyword-spotting-led)"
   ]
  },
  {
   "cell_type": "markdown",
   "id": "98a7d480",
   "metadata": {},
   "source": [
    "## Dataset Exploration"
   ]
  },
  {
   "cell_type": "code",
   "execution_count": 1,
   "id": "3b5f9f26",
   "metadata": {},
   "outputs": [
    {
     "name": "stdout",
     "output_type": "stream",
     "text": [
      "TensorFlow Version: 2.16.2\n",
      "Num GPUs Available:  1\n"
     ]
    }
   ],
   "source": [
    "# Importing the relevant libraries\n",
    "import tensorflow as tf\n",
    "import tensorflow_datasets as tfds\n",
    "import librosa\n",
    "from functools import partial\n",
    "import librosa.display\n",
    "import matplotlib.pyplot as plt\n",
    "import numpy as np\n",
    "import os\n",
    "import sounddevice as sd\n",
    "\n",
    "# Checking TensorFlow and GPU availability\n",
    "print(\"TensorFlow Version:\", tf.__version__)\n",
    "print(\"Num GPUs Available: \", len(tf.config.list_physical_devices('GPU')))"
   ]
  },
  {
   "cell_type": "code",
   "execution_count": 47,
   "id": "20904110",
   "metadata": {},
   "outputs": [],
   "source": [
    "# Global variables\n",
    "\n",
    "N_MFCC = 13  # Number of MFCCs to return\n",
    "N_FFT = 2048 # Length of the FFT window\n",
    "HOP_LENGTH = 512 # Number of samples between successive frames\n",
    "SAMPLE_RATE = 16000 # Sample rate for audio files\n",
    "BATCH_SIZE = 64 # Batch size for training\n",
    "TARGET_FRAMES = 32 # Number of frames to target for each audio sample"
   ]
  },
  {
   "cell_type": "markdown",
   "id": "c1b78103",
   "metadata": {},
   "source": [
    "### Helper Functions"
   ]
  },
  {
   "cell_type": "code",
   "execution_count": 18,
   "id": "2c074995",
   "metadata": {},
   "outputs": [],
   "source": [
    "def filter_and_label_example(example_audio, example_label_int):\n",
    "    \"\"\"\n",
    "    Processes audio for model input. Model learns all dataset labels, the input label is passed through as the model label.\n",
    "\n",
    "    Args:\n",
    "        example_audio: The audio tensor from the dataset.\n",
    "        example_label_int: The integer label tensor from the dataset (0-11 for v0.0.3).\n",
    "\n",
    "    Returns:\n",
    "        A tuple (processed_audio_tensor, model_label_int_tensor)\n",
    "    \"\"\"\n",
    "    # Handle audio type and normalization\n",
    "    def numpy_fn(audio_tensor_arg, label_tensor_arg):\n",
    "        # Convert EagerTensors to NumPy arrays\n",
    "        audio_np = audio_tensor_arg.numpy()\n",
    "        label_np = label_tensor_arg.numpy()\n",
    "        \n",
    "        if audio_np.dtype == np.int16:\n",
    "            audio_processed_np = audio_np.astype(np.float32) / 32768.0 # Normalize int16 to float32 range\n",
    "        elif audio_np.dtype != np.float32:\n",
    "            audio_processed_np = audio_np.astype(np.float32)\n",
    "        else:\n",
    "            audio_processed_np = audio_np # Already float32\n",
    "\n",
    "        model_label_int = label_np\n",
    "\n",
    "        return audio_processed_np, np.int64(model_label_int)\n",
    "\n",
    "    audio, label = tf.py_function(\n",
    "        func=numpy_fn,\n",
    "        inp=[example_audio, example_label_int],\n",
    "        Tout=(tf.float32, example_label_int.dtype)\n",
    "    )\n",
    "    audio.set_shape(example_audio.shape)\n",
    "    \n",
    "    # Ensure label output shape is scalar if example_label_int is scalar\n",
    "    if example_label_int.shape == tf.TensorShape([]):\n",
    "        label.set_shape([])\n",
    "    else:\n",
    "        label.set_shape(example_label_int.shape)\n",
    "        \n",
    "    return audio, label"
   ]
  },
  {
   "cell_type": "code",
   "execution_count": 24,
   "id": "5425c75e",
   "metadata": {},
   "outputs": [],
   "source": [
    "def map_fn_train(example, label_key):\n",
    "    \"\"\"\n",
    "    Mapping function to be used with tf.data.Dataset.map().\n",
    "    Extracts audio and label from the example, and passes them to filter_and_label_example.\n",
    "\n",
    "    Args:\n",
    "        example: Dictionary with 'audio' and label tensor.\n",
    "        label_key: Key used to access the label in the dataset (typically 'label').\n",
    "        config: Configuration dictionary containing class mappings and keywords.\n",
    "\n",
    "    Returns:\n",
    "        A tuple (audio_tensor, model_label_int)\n",
    "    \"\"\"\n",
    "    audio = example['audio']\n",
    "    label = example[label_key]\n",
    "    return filter_and_label_example(audio, label)\n"
   ]
  },
  {
   "cell_type": "code",
   "execution_count": 50,
   "id": "4a18896a",
   "metadata": {},
   "outputs": [],
   "source": [
    "def extract_mfccs_tf_py_function(audio_tensor, label_tensor):\n",
    "    def numpy_mfcc_extractor(audio_tensor_arg, label_tensor_arg):\n",
    "        # Convert input EagerTensors to NumPy arrays FIRST\n",
    "        audio_np_for_mfcc = audio_tensor_arg.numpy()\n",
    "        label_np_for_passthrough = label_tensor_arg.numpy()\n",
    "\n",
    "        # audio_np_for_mfcc is already float32 normalized from the previous step\n",
    "        mfccs = librosa.feature.mfcc(y=audio_np_for_mfcc,\n",
    "                                     sr=SAMPLE_RATE,\n",
    "                                     n_mfcc=N_MFCC,\n",
    "                                     n_fft=N_FFT,\n",
    "                                     hop_length=HOP_LENGTH)\n",
    "        \n",
    "        # Adding padding/truncation to ensure consistent output shape\n",
    "        if mfccs.shape[1] < TARGET_FRAMES:\n",
    "            # Pad if too short\n",
    "            padding_width = TARGET_FRAMES - mfccs.shape[1]\n",
    "            mfccs_padded = np.pad(mfccs, ((0, 0), (0, padding_width)), mode='constant', constant_values=0)\n",
    "        elif mfccs.shape[1] > TARGET_FRAMES:\n",
    "            # Truncate if too long\n",
    "            mfccs_padded = mfccs[:, :TARGET_FRAMES]\n",
    "        else:\n",
    "            # Already correct length\n",
    "            mfccs_padded = mfccs\n",
    "\n",
    "        return mfccs_padded.astype(np.float32), label_np_for_passthrough # Ensure MFCCs are float32\n",
    "        \n",
    "    num_frames_calculated = int(np.ceil(float(16000) / HOP_LENGTH)) # Example for 16000 samples, 16kHz, hop 512 -> 32 frames\n",
    "\n",
    "    mfcc_output_shape = (N_MFCC, num_frames_calculated)\n",
    "\n",
    "    mfccs_tensor, label_passthrough_tensor = tf.py_function(\n",
    "        func=numpy_mfcc_extractor,\n",
    "        inp=[audio_tensor, label_tensor],\n",
    "        Tout=(tf.float32, label_tensor.dtype) # MFCCs are float32, label dtype passes through\n",
    "    )\n",
    "\n",
    "    # Set the shape for the MFCC tensor\n",
    "    mfccs_tensor.set_shape(mfcc_output_shape)\n",
    "    # Set the shape for the label tensor (should be scalar)\n",
    "    if label_tensor.shape == tf.TensorShape([]):\n",
    "        label_passthrough_tensor.set_shape([])\n",
    "    else:\n",
    "        label_passthrough_tensor.set_shape(label_tensor.shape)\n",
    "\n",
    "    return mfccs_tensor, label_passthrough_tensor"
   ]
  },
  {
   "cell_type": "markdown",
   "id": "ed746c18",
   "metadata": {},
   "source": [
    "### 1. Loading and Preparing"
   ]
  },
  {
   "cell_type": "code",
   "execution_count": 16,
   "id": "33576a75",
   "metadata": {},
   "outputs": [
    {
     "name": "stdout",
     "output_type": "stream",
     "text": [
      "\n",
      "Dataset Information (ds_info):\n",
      "tfds.core.DatasetInfo(\n",
      "    name='speech_commands',\n",
      "    full_name='speech_commands/0.0.3',\n",
      "    description=\"\"\"\n",
      "    An audio dataset of spoken words designed to help train and evaluate keyword\n",
      "    spotting systems. Its primary goal is to provide a way to build and test small\n",
      "    models that detect when a single word is spoken, from a set of ten target words,\n",
      "    with as few false positives as possible from background noise or unrelated\n",
      "    speech. Note that in the train and validation set, the label \"unknown\" is much\n",
      "    more prevalent than the labels of the target words or background noise. One\n",
      "    difference from the release version is the handling of silent segments. While in\n",
      "    the test set the silence segments are regular 1 second files, in the training\n",
      "    they are provided as long segments under \"background_noise\" folder. Here we\n",
      "    split these background noise into 1 second clips, and also keep one of the files\n",
      "    for the validation set.\n",
      "    \"\"\",\n",
      "    homepage='https://arxiv.org/abs/1804.03209',\n",
      "    data_dir='../data/raw/tensorflow_datasets/speech_commands/0.0.3',\n",
      "    file_format=tfrecord,\n",
      "    download_size=2.37 GiB,\n",
      "    dataset_size=8.17 GiB,\n",
      "    features=FeaturesDict({\n",
      "        'audio': Audio(shape=(None,), dtype=int16),\n",
      "        'label': ClassLabel(shape=(), dtype=int64, num_classes=12),\n",
      "    }),\n",
      "    supervised_keys=('audio', 'label'),\n",
      "    disable_shuffling=False,\n",
      "    nondeterministic_order=False,\n",
      "    splits={\n",
      "        'test': <SplitInfo num_examples=4890, num_shards=4>,\n",
      "        'train': <SplitInfo num_examples=85511, num_shards=64>,\n",
      "        'validation': <SplitInfo num_examples=10102, num_shards=8>,\n",
      "    },\n",
      "    citation=\"\"\"@article{speechcommandsv2,\n",
      "       author = {{Warden}, P.},\n",
      "        title = \"{Speech Commands: A Dataset for Limited-Vocabulary Speech Recognition}\",\n",
      "      journal = {ArXiv e-prints},\n",
      "      archivePrefix = \"arXiv\",\n",
      "      eprint = {1804.03209},\n",
      "      primaryClass = \"cs.CL\",\n",
      "      keywords = {Computer Science - Computation and Language, Computer Science - Human-Computer Interaction},\n",
      "        year = 2018,\n",
      "        month = apr,\n",
      "        url = {https://arxiv.org/abs/1804.03209},\n",
      "    }\"\"\",\n",
      ")\n"
     ]
    }
   ],
   "source": [
    "# Loading the speech_commands dataset (version 0.0.3) from TensorFlow Datasets\n",
    "# This version contains 12 classes, including 'unknown' and 'silence'.\n",
    "# The dataset is split into training, validation, and test sets.\n",
    "\n",
    "# Defining the path for the dataset\n",
    "DATA_PATH = os.path.join(\"..\", \"data\", \"raw\", \"tensorflow_datasets\")\n",
    "os.makedirs(DATA_PATH, exist_ok=True)\n",
    "\n",
    "try:\n",
    "    builder = tfds.builder(\"speech_commands:0.0.3\")\n",
    "    builder.download_and_prepare(download_dir=DATA_PATH)\n",
    "    ds_train_full, ds_info = tfds.load('speech_commands', split='train', with_info=True, shuffle_files=True, data_dir=DATA_PATH)\n",
    "    ds_val_full = tfds.load('speech_commands', split='validation', shuffle_files=False, data_dir=DATA_PATH)\n",
    "    ds_test_full = tfds.load('speech_commands', split='test', shuffle_files=False, data_dir=DATA_PATH)\n",
    "\n",
    "except Exception as e:\n",
    "    print(f\"Error loading dataset: {e}\")\n",
    "    raise e # Stop execution if dataset loading fails\n",
    "\n",
    "# Displaying the dataset information if successfully loaded\n",
    "print(\"\\nDataset Information (ds_info):\")\n",
    "print(ds_info)"
   ]
  },
  {
   "cell_type": "code",
   "execution_count": 31,
   "id": "fcf8d870",
   "metadata": {},
   "outputs": [
    {
     "name": "stdout",
     "output_type": "stream",
     "text": [
      "\n",
      "Features:\n",
      "FeaturesDict({\n",
      "    'audio': Audio(shape=(None,), dtype=int16),\n",
      "    'label': ClassLabel(shape=(), dtype=int64, num_classes=12),\n",
      "})\n",
      "\n",
      "Total number of classes in the dataset: 12\n",
      "\n",
      "Full list of class names:\n",
      "['down', 'go', 'left', 'no', 'off', 'on', 'right', 'stop', 'up', 'yes', '_silence_', '_unknown_']\n",
      "\n",
      "Number of examples in train split: 85511\n",
      "Number of examples in validation split: 10102\n",
      "Number of examples in test split: 4890\n",
      "\n",
      "Sample rate: 16000 Hz\n"
     ]
    }
   ],
   "source": [
    "# Checking the features in the dataset\n",
    "print(\"\\nFeatures:\")\n",
    "print(ds_info.features)\n",
    "\n",
    "# Label key for the dataset\n",
    "label_key = 'label'\n",
    "\n",
    "# Classes in the dataset\n",
    "num_total_classes = ds_info.features[label_key].num_classes\n",
    "print(f\"\\nTotal number of classes in the dataset: {num_total_classes}\")\n",
    "\n",
    "# String names of the classes\n",
    "class_names_full = ds_info.features[label_key].names\n",
    "print(f\"\\nFull list of class names:\")\n",
    "print(class_names_full)\n",
    "\n",
    "# Number of examples in each split\n",
    "print(f\"\\nNumber of examples in train split: {ds_info.splits['train'].num_examples}\")\n",
    "print(f\"Number of examples in validation split: {ds_info.splits['validation'].num_examples}\")\n",
    "print(f\"Number of examples in test split: {ds_info.splits['test'].num_examples}\")\n",
    "\n",
    "# Audio sample rate\n",
    "SAMPLE_RATE = ds_info.features['audio'].sample_rate\n",
    "print(f\"\\nSample rate: {SAMPLE_RATE} Hz\")"
   ]
  },
  {
   "cell_type": "code",
   "execution_count": 7,
   "id": "2e99355c",
   "metadata": {},
   "outputs": [
    {
     "name": "stdout",
     "output_type": "stream",
     "text": [
      "tfds.core.DatasetInfo(\n",
      "    name='speech_commands',\n",
      "    full_name='speech_commands/0.0.3',\n",
      "    description=\"\"\"\n",
      "    An audio dataset of spoken words designed to help train and evaluate keyword\n",
      "    spotting systems. Its primary goal is to provide a way to build and test small\n",
      "    models that detect when a single word is spoken, from a set of ten target words,\n",
      "    with as few false positives as possible from background noise or unrelated\n",
      "    speech. Note that in the train and validation set, the label \"unknown\" is much\n",
      "    more prevalent than the labels of the target words or background noise. One\n",
      "    difference from the release version is the handling of silent segments. While in\n",
      "    the test set the silence segments are regular 1 second files, in the training\n",
      "    they are provided as long segments under \"background_noise\" folder. Here we\n",
      "    split these background noise into 1 second clips, and also keep one of the files\n",
      "    for the validation set.\n",
      "    \"\"\",\n",
      "    homepage='https://arxiv.org/abs/1804.03209',\n",
      "    data_dir='../data/raw/tensorflow_datasets/speech_commands/0.0.3',\n",
      "    file_format=tfrecord,\n",
      "    download_size=2.37 GiB,\n",
      "    dataset_size=8.17 GiB,\n",
      "    features=FeaturesDict({\n",
      "        'audio': Audio(shape=(None,), dtype=int16),\n",
      "        'label': ClassLabel(shape=(), dtype=int64, num_classes=12),\n",
      "    }),\n",
      "    supervised_keys=('audio', 'label'),\n",
      "    disable_shuffling=False,\n",
      "    nondeterministic_order=False,\n",
      "    splits={\n",
      "        'test': <SplitInfo num_examples=4890, num_shards=4>,\n",
      "        'train': <SplitInfo num_examples=85511, num_shards=64>,\n",
      "        'validation': <SplitInfo num_examples=10102, num_shards=8>,\n",
      "    },\n",
      "    citation=\"\"\"@article{speechcommandsv2,\n",
      "       author = {{Warden}, P.},\n",
      "        title = \"{Speech Commands: A Dataset for Limited-Vocabulary Speech Recognition}\",\n",
      "      journal = {ArXiv e-prints},\n",
      "      archivePrefix = \"arXiv\",\n",
      "      eprint = {1804.03209},\n",
      "      primaryClass = \"cs.CL\",\n",
      "      keywords = {Computer Science - Computation and Language, Computer Science - Human-Computer Interaction},\n",
      "        year = 2018,\n",
      "        month = apr,\n",
      "        url = {https://arxiv.org/abs/1804.03209},\n",
      "    }\"\"\",\n",
      ")\n"
     ]
    }
   ],
   "source": [
    "print(ds_info)"
   ]
  },
  {
   "cell_type": "code",
   "execution_count": 32,
   "id": "9e0da684",
   "metadata": {},
   "outputs": [
    {
     "name": "stdout",
     "output_type": "stream",
     "text": [
      "\n",
      "--- Single Example ---\n",
      "Audio data shape: (16000,)\n",
      "Audio data type: int16\n",
      "Min audio value: -32606, Max audio value: 32561\n",
      "Integer label: 11\n",
      "String label: _unknown_\n"
     ]
    },
    {
     "data": {
      "image/png": "[encoded data removed]",
      "text/plain": [
       "<Figure size 1200x300 with 1 Axes>"
      ]
     },
     "metadata": {},
     "output_type": "display_data"
    },
    {
     "name": "stdout",
     "output_type": "stream",
     "text": [
      "Playing audio for '_unknown_'...\n",
      "Playback finished.\n",
      "\n",
      "MFCCs shape: (13, 32)\n"
     ]
    },
    {
     "data": {
      "image/png": "[encoded data removed]",
      "text/plain": [
       "<Figure size 1000x400 with 2 Axes>"
      ]
     },
     "metadata": {},
     "output_type": "display_data"
    },
    {
     "name": "stderr",
     "output_type": "stream",
     "text": [
      "2025-06-03 20:20:28.065886: W tensorflow/core/framework/local_rendezvous.cc:404] Local rendezvous is aborting with status: OUT_OF_RANGE: End of sequence\n"
     ]
    }
   ],
   "source": [
    "# Checking one random example from the training dataset for visualization\n",
    "for example in ds_train_full.take(1):\n",
    "    audio_data = example['audio'].numpy()\n",
    "    label_int = example[label_key].numpy()\n",
    "    label_str = class_names_full[label_int]\n",
    "\n",
    "    print(f\"\\n--- Single Example ---\")\n",
    "    print(f\"Audio data shape: {audio_data.shape}\") \n",
    "    print(f\"Audio data type: {audio_data.dtype}\")\n",
    "    print(f\"Min audio value: {np.min(audio_data)}, Max audio value: {np.max(audio_data)}\")\n",
    "    print(f\"Integer label: {label_int}\")\n",
    "    print(f\"String label: {label_str}\")\n",
    "\n",
    "    # Visualizing the waveform\n",
    "    plt.figure(figsize=(12, 3))\n",
    "    plt.plot(np.linspace(0, len(audio_data) / SAMPLE_RATE, num=len(audio_data)), audio_data)\n",
    "    plt.title(f\"Waveform for '{label_str}'\")\n",
    "    plt.xlabel(\"Time (s)\")\n",
    "    plt.ylabel(\"Amplitude\")\n",
    "    plt.grid(True)\n",
    "    plt.show()\n",
    "\n",
    "    # Play the audio\n",
    "    try:\n",
    "        print(f\"Playing audio for '{label_str}'...\")\n",
    "        sd.play(audio_data, SAMPLE_RATE)\n",
    "        sd.wait()\n",
    "        print(\"Playback finished.\")\n",
    "    except Exception as e:\n",
    "        print(f\"Could not play audio: {e}. Ensure sounddevice is installed and working.\")\n",
    "    \n",
    "    # Ensure audio_data is float for librosa\n",
    "    mfccs = librosa.feature.mfcc(y=audio_data.astype(float),\n",
    "                                 sr=SAMPLE_RATE,\n",
    "                                 n_mfcc=N_MFCC,\n",
    "                                 n_fft=N_FFT,\n",
    "                                 hop_length=HOP_LENGTH)\n",
    "\n",
    "    print(f\"\\nMFCCs shape: {mfccs.shape}\") # (n_mfcc, n_frames)\n",
    "\n",
    "    plt.figure(figsize=(10, 4))\n",
    "    librosa.display.specshow(mfccs, sr=SAMPLE_RATE, hop_length=HOP_LENGTH, x_axis='time')\n",
    "    plt.colorbar(format='%+2.0f dB') # Colorbar shows decibels\n",
    "    plt.title(f\"MFCCs for '{label_str}'\")\n",
    "    plt.tight_layout()\n",
    "    plt.show()"
   ]
  },
  {
   "cell_type": "code",
   "execution_count": 52,
   "id": "655cfa2e",
   "metadata": {},
   "outputs": [
    {
     "name": "stdout",
     "output_type": "stream",
     "text": [
      "All labels the model will learn (all_model_labels): ['down', 'go', 'left', 'no', 'off', 'on', 'right', 'stop', 'up', 'yes', '_silence_', '_unknown_']\n",
      "Number of classes model will predict: 12\n",
      "\n",
      "Label to int mapping for model: {'down': 0, 'go': 1, 'left': 2, 'no': 3, 'off': 4, 'on': 5, 'right': 6, 'stop': 7, 'up': 8, 'yes': 9, '_silence_': 10, '_unknown_': 11}\n",
      "Int to label mapping for model: {0: 'down', 1: 'go', 2: 'left', 3: 'no', 4: 'off', 5: 'on', 6: 'right', 7: 'stop', 8: 'up', 9: 'yes', 10: '_silence_', 11: '_unknown_'}\n",
      "\n",
      "Application target keywords for LED control: ['up', 'down', 'left', 'on', 'off']\n"
     ]
    }
   ],
   "source": [
    "# 1. Define the labels the MODEL will learn and predict.\n",
    "config = {}\n",
    "config[\"all_model_labels\"] = class_names_full\n",
    "print(f\"All labels the model will learn (all_model_labels): {config['all_model_labels']}\")\n",
    "print(f\"Number of classes model will predict: {len(config['all_model_labels'])}\") \n",
    "\n",
    "# 2. Create mappings for these model labels\n",
    "config[\"label_to_int\"] = {label: i for i, label in enumerate(config[\"all_model_labels\"])}\n",
    "config[\"int_to_label\"] = {i: label for i, label in enumerate(config[\"all_model_labels\"])} \n",
    "print(f\"\\nLabel to int mapping for model: {config['label_to_int']}\")\n",
    "print(f\"Int to label mapping for model: {config['int_to_label']}\")\n",
    "\n",
    "\n",
    "# 3. Define the application-specific target keywords for LED control (just for reference).\n",
    "config[\"target_keywords\"] = [\"up\", \"down\", \"left\", \"on\", \"off\"] # \n",
    "print(f\"\\nApplication target keywords for LED control: {config['target_keywords']}\")"
   ]
  },
  {
   "cell_type": "markdown",
   "id": "d5dcd859",
   "metadata": {},
   "source": [
    "### Testing the Helper Functions"
   ]
  },
  {
   "cell_type": "code",
   "execution_count": 53,
   "id": "3c6c2ec7",
   "metadata": {},
   "outputs": [
    {
     "name": "stdout",
     "output_type": "stream",
     "text": [
      "\n",
      "--- Testing with a core command: 'on' ---\n",
      "Original dataset label string: 'on'\n",
      "Original dataset label int: 5\n",
      "Processed model label int: 5\n",
      "Processed model label string (from config['int_to_label']): on\n"
     ]
    }
   ],
   "source": [
    "# Test Case 1: A word that is one of the 10 core commands\n",
    "test_word_core_command = \"on\"\n",
    "n_iterations = 2000 # Iterate enough to find it\n",
    "\n",
    "print(f\"\\n--- Testing with a core command: '{test_word_core_command}' ---\")\n",
    "found_core_command = False\n",
    "for ex in ds_train_full.take(n_iterations): \n",
    "    # Get the original string label from the dataset\n",
    "    original_dataset_label_str = class_names_full[ex[label_key].numpy()]\n",
    "\n",
    "    if original_dataset_label_str == test_word_core_command:\n",
    "        processed_audio_tensor, processed_label_int_tensor = filter_and_label_example(\n",
    "            ex['audio'], ex[label_key]\n",
    "        )\n",
    "\n",
    "        processed_label_int = processed_label_int_tensor.numpy()\n",
    "\n",
    "        print(f\"Original dataset label string: '{original_dataset_label_str}'\")\n",
    "        print(f\"Original dataset label int: {ex[label_key].numpy()}\")\n",
    "        print(f\"Processed model label int: {processed_label_int}\")\n",
    "        print(f\"Processed model label string (from config['int_to_label']): {config['int_to_label'][processed_label_int]}\")\n",
    "        found_core_command = True\n",
    "        break\n",
    "\n",
    "if not found_core_command:\n",
    "    print(f\"Could not find an example of '{test_word_core_command}' in the first {n_iterations} samples of ds_train_full.\")\n"
   ]
  },
  {
   "cell_type": "code",
   "execution_count": 20,
   "id": "7cb2aaa2",
   "metadata": {},
   "outputs": [
    {
     "name": "stdout",
     "output_type": "stream",
     "text": [
      "\n",
      "--- Testing with an example labeled as '_unknown_' by the dataset ---\n",
      "Original dataset label string: '_unknown_'\n",
      "Original dataset label int: 11\n",
      "Processed model label int: 11\n",
      "Processed model label string (from config['int_to_label']): _unknown_\n"
     ]
    }
   ],
   "source": [
    "# Test Case 2: An example that TFDS v0.0.3 labels as '_unknown_'\n",
    "test_dataset_label_is_unknown = \"_unknown_\" \n",
    "\n",
    "print(f\"\\n--- Testing with an example labeled as '{test_dataset_label_is_unknown}' by the dataset ---\")\n",
    "found_unknown_example = False\n",
    "for ex in ds_train_full.take(n_iterations): \n",
    "    original_dataset_label_str = class_names_full[ex[label_key].numpy()]\n",
    "\n",
    "    if original_dataset_label_str == test_dataset_label_is_unknown:\n",
    "        processed_audio_tensor, processed_label_int_tensor = filter_and_label_example(\n",
    "            ex['audio'], ex[label_key]\n",
    "        )\n",
    "        processed_label_int = processed_label_int_tensor.numpy()\n",
    "\n",
    "        print(f\"Original dataset label string: '{original_dataset_label_str}'\")\n",
    "        print(f\"Original dataset label int: {ex[label_key].numpy()}\") # Should be index of '_unknown_'\n",
    "        print(f\"Processed model label int: {processed_label_int}\")   # Should be the same index\n",
    "        print(f\"Processed model label string (from config['int_to_label']): {config['int_to_label'][processed_label_int]}\")\n",
    "        found_unknown_example = True\n",
    "        break\n",
    "if not found_unknown_example:\n",
    "    print(f\"Could not find an example labeled as '{test_dataset_label_is_unknown}' in the first {n_iterations} samples of ds_train_full.\")"
   ]
  },
  {
   "cell_type": "code",
   "execution_count": 21,
   "id": "528085ec",
   "metadata": {},
   "outputs": [
    {
     "name": "stdout",
     "output_type": "stream",
     "text": [
      "\n",
      "--- Testing with an example labeled as '_silence_' by the dataset ---\n",
      "Original dataset label string: '_silence_'\n",
      "Original dataset label int: 10\n",
      "Processed model label int: 10\n",
      "Processed model label string (from config['int_to_label']): _silence_\n"
     ]
    }
   ],
   "source": [
    "# Test Case 3: An example labeled as '_silence_' by the dataset\n",
    "test_dataset_label_is_silence = \"_silence_\"\n",
    "\n",
    "print(f\"\\n--- Testing with an example labeled as '{test_dataset_label_is_silence}' by the dataset ---\")\n",
    "found_silence_example = False\n",
    "for ex in ds_train_full.take(n_iterations): \n",
    "    original_dataset_label_str = class_names_full[ex[label_key].numpy()]\n",
    "\n",
    "    if original_dataset_label_str == test_dataset_label_is_silence:\n",
    "        processed_audio_tensor, processed_label_int_tensor = filter_and_label_example(\n",
    "            ex['audio'], ex[label_key]\n",
    "        )\n",
    "        processed_label_int = processed_label_int_tensor.numpy()\n",
    "\n",
    "        print(f\"Original dataset label string: '{original_dataset_label_str}'\")\n",
    "        print(f\"Original dataset label int: {ex[label_key].numpy()}\")\n",
    "        print(f\"Processed model label int: {processed_label_int}\")\n",
    "        print(f\"Processed model label string (from config['int_to_label']): {config['int_to_label'][processed_label_int]}\")\n",
    "        found_silence_example = True\n",
    "        break\n",
    "if not found_silence_example:\n",
    "    print(f\"Could not find an example labeled as '{test_dataset_label_is_silence}' in the first {n_iterations} samples of ds_train_full.\")"
   ]
  },
  {
   "cell_type": "code",
   "execution_count": 54,
   "id": "3cee21c9",
   "metadata": {},
   "outputs": [],
   "source": [
    "# Wrap the map function with predefined arguments\n",
    "map_fn = partial(map_fn_train, label_key=label_key)\n",
    "\n",
    "# Apply the mapping\n",
    "ds_train_mapped = ds_train_full.map(map_fn, num_parallel_calls=tf.data.AUTOTUNE)\n",
    "ds_val_mapped = ds_val_full.map(map_fn, num_parallel_calls=tf.data.AUTOTUNE)\n",
    "ds_test_mapped = ds_test_full.map(map_fn, num_parallel_calls=tf.data.AUTOTUNE)"
   ]
  },
  {
   "cell_type": "markdown",
   "id": "b1f7c655",
   "metadata": {},
   "source": [
    "## Feature Extraction (MFCCs) and Final Dataset Preparation"
   ]
  },
  {
   "cell_type": "markdown",
   "id": "82a0b5b7",
   "metadata": {},
   "source": [
    "### MFCC Feature Extraction"
   ]
  },
  {
   "cell_type": "code",
   "execution_count": 55,
   "id": "f8329a72",
   "metadata": {},
   "outputs": [
    {
     "name": "stdout",
     "output_type": "stream",
     "text": [
      "\n",
      "--- Testing MFCC Extraction ---\n",
      "Original audio shape: (16000,), Original label: 11\n",
      "MFCC features shape: (13, 32)\n",
      "Label after MFCC: 11\n"
     ]
    },
    {
     "data": {
      "image/png": "[encoded data removed]",
      "text/plain": [
       "<Figure size 1000x400 with 2 Axes>"
      ]
     },
     "metadata": {},
     "output_type": "display_data"
    }
   ],
   "source": [
    "# Testing the MFCC extraction function\n",
    "print(\"\\n--- Testing MFCC Extraction ---\")\n",
    "for audio_sample, label_sample in ds_train_mapped.take(1):\n",
    "    print(f\"Original audio shape: {audio_sample.shape}, Original label: {label_sample.numpy()}\")\n",
    "    mfcc_features, label_after_mfcc = extract_mfccs_tf_py_function(audio_sample, label_sample)\n",
    "    print(f\"MFCC features shape: {mfcc_features.shape}\") # Should be (N_MFCC, num_frames_calculated)\n",
    "    print(f\"Label after MFCC: {label_after_mfcc.numpy()}\")\n",
    "    # Optional: Plot the MFCCs\n",
    "    plt.figure(figsize=(10, 4))\n",
    "    librosa.display.specshow(mfcc_features.numpy(), # Convert to numpy for plotting\n",
    "                             sr=SAMPLE_RATE,\n",
    "                             hop_length=HOP_LENGTH,\n",
    "                             x_axis='time')\n",
    "    plt.colorbar(format='%+2.0f dB')\n",
    "    plt.title(f\"MFCCs for label {label_after_mfcc.numpy()}\")\n",
    "    plt.tight_layout()\n",
    "    plt.show()\n",
    "    break"
   ]
  },
  {
   "cell_type": "code",
   "execution_count": 56,
   "id": "705102a1",
   "metadata": {},
   "outputs": [
    {
     "name": "stdout",
     "output_type": "stream",
     "text": [
      "\n",
      "--- First example from dataset with MFCC features ---\n",
      "MFCC example shape: (13, 32), Label: 11\n"
     ]
    },
    {
     "name": "stderr",
     "output_type": "stream",
     "text": [
      "2025-06-03 20:47:01.049525: W tensorflow/core/framework/local_rendezvous.cc:404] Local rendezvous is aborting with status: OUT_OF_RANGE: End of sequence\n"
     ]
    }
   ],
   "source": [
    "# Applying the MFCC extraction function to the datasets\n",
    "ds_train_features = ds_train_mapped.map(extract_mfccs_tf_py_function, num_parallel_calls=tf.data.AUTOTUNE)\n",
    "ds_val_features = ds_val_mapped.map(extract_mfccs_tf_py_function, num_parallel_calls=tf.data.AUTOTUNE)\n",
    "ds_test_features = ds_test_mapped.map(extract_mfccs_tf_py_function, num_parallel_calls=tf.data.AUTOTUNE)\n",
    "\n",
    "# Check the first element of the new dataset\n",
    "print(\"\\n--- First example from dataset with MFCC features ---\")\n",
    "for mfcc_ex, label_ex in ds_train_features.take(1):\n",
    "    print(f\"MFCC example shape: {mfcc_ex.shape}, Label: {label_ex.numpy()}\")"
   ]
  },
  {
   "cell_type": "markdown",
   "id": "5b9ec886",
   "metadata": {},
   "source": [
    "### Cache, Shuffle, and Batch the Datasets\n"
   ]
  },
  {
   "cell_type": "code",
   "execution_count": 57,
   "id": "cda24b72",
   "metadata": {},
   "outputs": [
    {
     "name": "stdout",
     "output_type": "stream",
     "text": [
      "Preparing ds_train...\n",
      "Calculating shuffle buffer size for ds_train...\n"
     ]
    },
    {
     "name": "stderr",
     "output_type": "stream",
     "text": [
      "2025-06-03 20:59:49.595115: W tensorflow/core/kernels/data/cache_dataset_ops.cc:858] The calling iterator did not fully read the dataset being cached. In order to avoid unexpected truncation of the dataset, the partially cached contents of the dataset  will be discarded. This can happen if you have an input pipeline similar to `dataset.cache().take(k).repeat()`. You should use `dataset.take(k).cache().repeat()` instead.\n"
     ]
    },
    {
     "name": "stdout",
     "output_type": "stream",
     "text": [
      "Calculated SHUFFLE_BUFFER_SIZE for ds_train: 85511\n",
      "ds_train preparation complete.\n"
     ]
    },
    {
     "name": "stderr",
     "output_type": "stream",
     "text": [
      "2025-06-03 21:01:10.212751: W tensorflow/core/framework/local_rendezvous.cc:404] Local rendezvous is aborting with status: OUT_OF_RANGE: End of sequence\n"
     ]
    }
   ],
   "source": [
    "# Prepare the TRAINING dataset\n",
    "print(\"Preparing ds_train...\")\n",
    "ds_train_intermediate = ds_train_features.cache()\n",
    "\n",
    "# Calculate the number of elements in the training dataset for the shuffle buffer\n",
    "print(\"Calculating shuffle buffer size for ds_train...\")\n",
    "SHUFFLE_BUFFER_SIZE = 0\n",
    "for _ in ds_train_intermediate:\n",
    "    SHUFFLE_BUFFER_SIZE += 1\n",
    "print(f\"Calculated SHUFFLE_BUFFER_SIZE for ds_train: {SHUFFLE_BUFFER_SIZE}\")\n",
    "\n",
    "# Now apply shuffle, batch, prefetch\n",
    "ds_train = ds_train_intermediate.shuffle(SHUFFLE_BUFFER_SIZE, reshuffle_each_iteration=True)\n",
    "ds_train = ds_train.batch(BATCH_SIZE)\n",
    "ds_train = ds_train.prefetch(tf.data.AUTOTUNE)\n",
    "print(\"ds_train preparation complete.\")\n"
   ]
  },
  {
   "cell_type": "code",
   "execution_count": 58,
   "id": "66c95bbf",
   "metadata": {},
   "outputs": [
    {
     "name": "stdout",
     "output_type": "stream",
     "text": [
      "\n",
      "Preparing ds_val...\n",
      "ds_val preparation complete.\n"
     ]
    }
   ],
   "source": [
    "# Prepare the VALIDATION dataset\n",
    "print(\"\\nPreparing ds_val...\")\n",
    "ds_val = ds_val_features.cache()\n",
    "ds_val = ds_val.batch(BATCH_SIZE)\n",
    "ds_val = ds_val.prefetch(tf.data.AUTOTUNE)\n",
    "print(\"ds_val preparation complete.\")"
   ]
  },
  {
   "cell_type": "code",
   "execution_count": 59,
   "id": "abdb814d",
   "metadata": {},
   "outputs": [
    {
     "name": "stdout",
     "output_type": "stream",
     "text": [
      "\n",
      "Preparing ds_test...\n",
      "ds_test preparation complete.\n"
     ]
    }
   ],
   "source": [
    "# Prepare the TEST dataset\n",
    "print(\"\\nPreparing ds_test...\")\n",
    "ds_test = ds_test_features.cache()\n",
    "ds_test = ds_test.batch(BATCH_SIZE)\n",
    "ds_test = ds_test.prefetch(tf.data.AUTOTUNE)\n",
    "print(\"ds_test preparation complete.\")"
   ]
  },
  {
   "cell_type": "code",
   "execution_count": 60,
   "id": "4dc7635a",
   "metadata": {},
   "outputs": [
    {
     "name": "stdout",
     "output_type": "stream",
     "text": [
      "\n",
      "--- Shape of one batch from final processed training data (ds_train) ---\n",
      "MFCC batch shape: (64, 13, 32)\n",
      "Label batch shape: (64,)\n",
      "Data type of MFCC batch: <dtype: 'float32'>\n",
      "Data type of Label batch: <dtype: 'int64'>\n",
      "\n",
      "--- Shape of one batch from final processed validation data (ds_val) ---\n",
      "MFCC batch shape (validation): (64, 13, 32)\n",
      "Label batch shape (validation): (64,)\n",
      "\n",
      "Dataset preparation complete for training, validation, and testing!\n"
     ]
    },
    {
     "name": "stderr",
     "output_type": "stream",
     "text": [
      "2025-06-03 21:05:02.392115: W tensorflow/core/kernels/data/cache_dataset_ops.cc:858] The calling iterator did not fully read the dataset being cached. In order to avoid unexpected truncation of the dataset, the partially cached contents of the dataset  will be discarded. This can happen if you have an input pipeline similar to `dataset.cache().take(k).repeat()`. You should use `dataset.take(k).cache().repeat()` instead.\n"
     ]
    }
   ],
   "source": [
    "# Verify the output of one batch from the prepared training data\n",
    "print(\"\\n--- Shape of one batch from final processed training data (ds_train) ---\")\n",
    "for mfcc_batch, label_batch in ds_train.take(1):\n",
    "    print(f\"MFCC batch shape: {mfcc_batch.shape}\")\n",
    "    print(f\"Label batch shape: {label_batch.shape}\")\n",
    "    print(f\"Data type of MFCC batch: {mfcc_batch.dtype}\")\n",
    "    print(f\"Data type of Label batch: {label_batch.dtype}\")\n",
    "    break\n",
    "\n",
    "print(\"\\n--- Shape of one batch from final processed validation data (ds_val) ---\")\n",
    "for mfcc_batch_val, label_batch_val in ds_val.take(1):\n",
    "    print(f\"MFCC batch shape (validation): {mfcc_batch_val.shape}\")\n",
    "    print(f\"Label batch shape (validation): {label_batch_val.shape}\")\n",
    "    break\n",
    "\n",
    "print(\"\\nDataset preparation complete for training, validation, and testing!\")"
   ]
  }
 ],
 "metadata": {
  "kernelspec": {
   "display_name": ".venv",
   "language": "python",
   "name": "python3"
  },
  "language_info": {
   "codemirror_mode": {
    "name": "ipython",
    "version": 3
   },
   "file_extension": ".py",
   "mimetype": "text/x-python",
   "name": "python",
   "nbconvert_exporter": "python",
   "pygments_lexer": "ipython3",
   "version": "3.12.9"
  }
 },
 "nbformat": 4,
 "nbformat_minor": 5
}
